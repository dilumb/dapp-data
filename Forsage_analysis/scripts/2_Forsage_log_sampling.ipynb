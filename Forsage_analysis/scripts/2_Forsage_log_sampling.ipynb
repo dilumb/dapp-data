{
 "cells": [
  {
   "cell_type": "code",
   "execution_count": 1,
   "id": "59dd5ea8",
   "metadata": {},
   "outputs": [],
   "source": [
    "import pm4py\n",
    "import csv\n",
    "import pandas as pd\n",
    "import time\n",
    "import numpy as np\n",
    "import matplotlib.pyplot as plt\n",
    "import random\n",
    "from datetime import datetime\n",
    "import os\n",
    "import pickle\n",
    "import tqdm as notebook_tqdm"
   ]
  },
  {
   "cell_type": "markdown",
   "id": "27901390",
   "metadata": {},
   "source": [
    "# Using the user account balance to filter the log\n",
    "The log has an overall size of 23 Mio events. ProM can barely ~1.5 Mio events. Hence, the log size needs to be reduced. Note: In the pyramide the top performers are at the very tip of the pyramide, which includes only a small percentage of user. \n",
    "\n",
    "Method: \n",
    "- Samples of same size to get comparable frequencies in event execution\n",
    "- Performance metric: account balance\n",
    "- Top: 1000 addresses with highest balance; Middle: 1000 addresses between 75 and 50 quantile; Bottom: 1000 addresses with lowest balance (highest negative)\n",
    "- Export logs for ProM and Disco analysis"
   ]
  },
  {
   "cell_type": "code",
   "execution_count": 2,
   "id": "ffcc1ef4",
   "metadata": {},
   "outputs": [],
   "source": [
    "# load balance sheet (see 1_Forsage_Ether_analysis.ipynb)\n",
    "\n",
    "curr_dir = os.getcwd()\n",
    "dir_path = os.path.dirname(curr_dir)\n",
    "file = \"balance\"\n",
    "path = os.path.join(dir_path, \"resources\", file + \".pkl\")\n",
    "balance = pickle.load(open(path, 'rb'))"
   ]
  },
  {
   "cell_type": "code",
   "execution_count": 3,
   "id": "27c578e4",
   "metadata": {},
   "outputs": [
    {
     "data": {
      "text/plain": [
       "Text(0, 0.5, 'Number of accounts (log scale)')"
      ]
     },
     "execution_count": 3,
     "metadata": {},
     "output_type": "execute_result"
    },
    {
     "data": {
      "image/png": "[encoded data removed]",
      "text/plain": [
       "<Figure size 640x480 with 1 Axes>"
      ]
     },
     "metadata": {},
     "output_type": "display_data"
    }
   ],
   "source": [
    "# distribution of total ETH per address (first graphic impression of income distribution)\n",
    "\n",
    "bin_size = 100\n",
    "balance[\"total_ETH\"].hist(bins=bin_size)\n",
    "plt.yscale('log')\n",
    "plt.xlabel(\"Ether total (bin size = 100)\")\n",
    "plt.ylabel(\"Number of accounts (log scale)\")"
   ]
  },
  {
   "cell_type": "code",
   "execution_count": 4,
   "id": "141edde1",
   "metadata": {},
   "outputs": [],
   "source": [
    "# create user address samples based on the balance\n",
    "\n",
    "sample_size = 1000\n",
    "\n",
    "def pyramide_cutter(mask):\n",
    "    pyramide_slice = balance[mask]\n",
    "    pyramide_slice = pyramide_slice.sample(n=sample_size, random_state=1, replace=False)\n",
    "    pyramide_slice = pyramide_slice.address.reset_index().drop(columns='index')\n",
    "    pyramide_slice = pyramide_slice.address.tolist()\n",
    "    return pyramide_slice\n",
    "\n",
    "# SUCCESSFUL USERS\n",
    "pyramide_top = balance.nlargest(sample_size+1, \"total_ETH\") # +1 -> the balance sheet contains a Forsage contract with a high balance but no activities assigned to it as a case notion in the event log\n",
    "pyramide_top = pyramide_top.address.reset_index().drop(columns='index')\n",
    "pyramide_top = pyramide_top.address.tolist()\n",
    "\n",
    "# AVERAGE USERS, center of the pyramide -> between median and 3rd quartile\n",
    "quartiles = balance.total_ETH.quantile([0.25, 0.5, 0.75])\n",
    "mask_center_top = (balance.total_ETH>=quartiles[0.5])&(balance.total_ETH<=quartiles[0.75])\n",
    "pyramide_center_top = pyramide_cutter(mask_center_top)\n",
    "\n",
    "# UNSUCCESSFUL USERS, bottom of the pyramide, little income or negative\n",
    "pyramide_bottom = balance.nsmallest(sample_size, \"total_ETH\")\n",
    "pyramide_bottom = pyramide_bottom.address.reset_index().drop(columns='index')\n",
    "pyramide_bottom = pyramide_bottom.address.tolist()"
   ]
  },
  {
   "cell_type": "code",
   "execution_count": 5,
   "id": "734b69eb",
   "metadata": {},
   "outputs": [
    {
     "data": {
      "application/vnd.jupyter.widget-view+json": {
       "model_id": "5e8073b6d6264cd19ca0e999c19efd07",
       "version_major": 2,
       "version_minor": 0
      },
      "text/plain": [
       "parsing log, completed traces ::   0%|          | 0/1055931 [00:00<?, ?it/s]"
      ]
     },
     "metadata": {},
     "output_type": "display_data"
    }
   ],
   "source": [
    "# Load Forsage log for trace sampling\n",
    "\n",
    "path = \"<path-to-Forsage-XES-log>\"\n",
    "\n",
    "log = pm4py.read_xes(path)\n",
    "df_log = pm4py.convert_to_dataframe(log)\n",
    "\n",
    "del log"
   ]
  },
  {
   "cell_type": "code",
   "execution_count": 6,
   "id": "e04821d0",
   "metadata": {},
   "outputs": [],
   "source": [
    "# create log samples for user groups\n",
    "\n",
    "def log_cutter(pyramide_slice):\n",
    "    mask = df_log[\"case:concept:name\"].isin(pyramide_slice)\n",
    "    df_sublog = df_log[mask]\n",
    "    df_sublog = df_sublog.fillna('')\n",
    "    df_sublog['time:timestamp'] = pd.to_datetime(df_sublog['time:timestamp'])\n",
    "    # order by timestamp and logIndex\n",
    "    df_sublog.sort_values(by=['time:timestamp', 'logIndex'], inplace = True)\n",
    "    # add levels to activity labels\n",
    "    mask_level = df_sublog[\"level\"] != \"\"\n",
    "    df_sublog['level'] = df_sublog['level'].apply(str).str[:-2]\n",
    "    df_sublog.iloc[(mask_level).values, 5] = df_sublog[[\"concept:name\", \"level\"]][mask_level].apply(\" : Level \".join, axis=1)\n",
    "    # fix index and columns\n",
    "    df_sublog.reset_index(inplace=True)\n",
    "    df_sublog.drop(columns=[\"index\"], inplace=True)\n",
    "    # first three events in each trace are onboarding matrices\n",
    "    df_sublog.loc[df_sublog.groupby('case:concept:name').head(3)[\"concept:name\"].index, \"concept:name\"] = \"Onboarding: \" + df_sublog[\"concept:name\"]\n",
    "    return df_sublog\n",
    "\n",
    "df_top = log_cutter(pyramide_top)\n",
    "df_center_top = log_cutter(pyramide_center_top)\n",
    "df_bottom = log_cutter(pyramide_bottom)"
   ]
  },
  {
   "cell_type": "code",
   "execution_count": 7,
   "id": "c591582e",
   "metadata": {},
   "outputs": [],
   "source": [
    "# save log as dataframe\n",
    "\n",
    "curr_dir = os.getcwd()\n",
    "dir_path = os.path.dirname(curr_dir)\n",
    "\n",
    "file = \"df_log\"\n",
    "path = os.path.join(dir_path, \"resources\", file + \".pkl\")\n",
    "pickle.dump(df_log, open(path, 'wb'))"
   ]
  },
  {
   "cell_type": "code",
   "execution_count": 8,
   "id": "7bf1b885",
   "metadata": {},
   "outputs": [],
   "source": [
    "# save user addresses\n",
    "\n",
    "curr_dir = os.getcwd()\n",
    "dir_path = os.path.dirname(curr_dir)\n",
    "\n",
    "data_list = [pyramide_top, pyramide_center_top, pyramide_bottom]\n",
    "file_list = [\"pyramide_top\", \"pyramide_center_top\", \"pyramide_bottom\"]\n",
    "counter_list = [0,1,2]\n",
    "\n",
    "for i in counter_list:\n",
    "    path = os.path.join(dir_path, \"resources\", file_list[i] + \".pkl\")\n",
    "    pickle.dump(data_list[i], open(path, 'wb'))"
   ]
  },
  {
   "cell_type": "code",
   "execution_count": 9,
   "id": "dae6e485",
   "metadata": {},
   "outputs": [],
   "source": [
    "# save sample logs\n",
    "\n",
    "curr_dir = os.getcwd()\n",
    "dir_path = os.path.dirname(curr_dir)\n",
    "\n",
    "data_list = [df_top, df_center_top, df_bottom]\n",
    "file_list = [\"df_top\", \"df_center_top\", \"df_bottom\"]\n",
    "counter_list = [0,1,2]\n",
    "\n",
    "for i in counter_list:\n",
    "    path = os.path.join(dir_path, \"resources\", file_list[i] + \".pkl\")\n",
    "    pickle.dump(data_list[i], open(path, 'wb'))"
   ]
  },
  {
   "cell_type": "code",
   "execution_count": 10,
   "id": "3519497b",
   "metadata": {},
   "outputs": [
    {
     "data": {
      "application/vnd.jupyter.widget-view+json": {
       "model_id": "4a14abcef3f642c59e7af0e4fc2ff70a",
       "version_major": 2,
       "version_minor": 0
      },
      "text/plain": [
       "exporting log, completed traces ::   0%|          | 0/1000 [00:00<?, ?it/s]"
      ]
     },
     "metadata": {},
     "output_type": "display_data"
    },
    {
     "data": {
      "application/vnd.jupyter.widget-view+json": {
       "model_id": "ee03c4d4893b45a1b419c3ee4fa0a0e9",
       "version_major": 2,
       "version_minor": 0
      },
      "text/plain": [
       "exporting log, completed traces ::   0%|          | 0/1000 [00:00<?, ?it/s]"
      ]
     },
     "metadata": {},
     "output_type": "display_data"
    },
    {
     "data": {
      "application/vnd.jupyter.widget-view+json": {
       "model_id": "a65b376d49f14025a471b6e9aa944017",
       "version_major": 2,
       "version_minor": 0
      },
      "text/plain": [
       "exporting log, completed traces ::   0%|          | 0/1000 [00:00<?, ?it/s]"
      ]
     },
     "metadata": {},
     "output_type": "display_data"
    }
   ],
   "source": [
    "# or save log as XES\n",
    "\n",
    "# convert to dataframe to XES\n",
    "from pm4py.objects.conversion.log import converter as log_converter\n",
    "\n",
    "log_top = log_converter.apply(df_top)\n",
    "log_center_top = log_converter.apply(df_center_top)\n",
    "log_bottom = log_converter.apply(df_bottom)\n",
    "\n",
    "# export as XES\n",
    "from pm4py.objects.log.exporter.xes import exporter as xes_exporter\n",
    "\n",
    "curr_dir = os.getcwd()\n",
    "dir_path = os.path.dirname(curr_dir)\n",
    "\n",
    "data_list = [log_top, log_center_top, log_bottom]\n",
    "file_list = [\"log_top\", \"log_center_top\", \"log_bottom\"]\n",
    "counter_list = [0,1,2]\n",
    "\n",
    "for i in counter_list:\n",
    "    path = os.path.join(dir_path, \"resources\", file_list[i] + \".xes\")\n",
    "    xes_exporter.apply(data_list[i], path)"
   ]
  }
 ],
 "metadata": {
  "kernelspec": {
   "display_name": "Python 3 (ipykernel)",
   "language": "python",
   "name": "python3"
  },
  "language_info": {
   "codemirror_mode": {
    "name": "ipython",
    "version": 3
   },
   "file_extension": ".py",
   "mimetype": "text/x-python",
   "name": "python",
   "nbconvert_exporter": "python",
   "pygments_lexer": "ipython3",
   "version": "3.8.10"
  }
 },
 "nbformat": 4,
 "nbformat_minor": 5
}
