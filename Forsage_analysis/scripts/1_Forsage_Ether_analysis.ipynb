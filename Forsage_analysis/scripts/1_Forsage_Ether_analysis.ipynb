{
 "cells": [
  {
   "cell_type": "markdown",
   "id": "c448c5dc",
   "metadata": {},
   "source": [
    "# Ether data formatting and analysis"
   ]
  },
  {
   "cell_type": "code",
   "execution_count": 14,
   "id": "f18782ec",
   "metadata": {},
   "outputs": [],
   "source": [
    "import pm4py\n",
    "import csv\n",
    "import pandas as pd\n",
    "import time\n",
    "import numpy as np\n",
    "import matplotlib.pyplot as plt\n",
    "import random\n",
    "from datetime import datetime\n",
    "import os\n",
    "import pickle"
   ]
  },
  {
   "cell_type": "code",
   "execution_count": 3,
   "id": "3b0906e9",
   "metadata": {},
   "outputs": [],
   "source": [
    "# ingest data on internal transactions, normal transactions and gas cost\n",
    "path_internal = \"<path-to-internal-transaction-data>\"\n",
    "path_normal = \"<path-to-normal-transaction-data>\"\n",
    "path_internal_gas = \"<path-to-internal-gas-data>\"\n",
    "\n",
    "df_internal = pd.read_csv(path_internal, delimiter=\",\", dtype={\"blockNumber\": int, \"timeStamp\": \"string\", \"hash\":\"string\", \"from\": \"string\", \"to\":\"string\", \"value\": \"string\", \"gas\":\"string\", \"gasUsed\":\"string\", \"isError\":int, \"input\":\"string\"})\n",
    "df_normal = pd.read_csv(path_normal, delimiter=\",\", dtype={\"blockNumber\": int, \"timeStamp\": \"string\", \"hash\":\"string\", \"from\": \"string\", \"to\":\"string\", \"value\": \"string\", \"gas\":\"string\", \"gasUsed\":\"string\", \"isError\":int, \"input\":\"string\"})\n",
    "df_internal_gas = pd.read_csv(path_internal_gas, delimiter=\",\", dtype={\"hash\":\"string\", \"gasUsedNormal\":int, \"gasUsedInternal\":int, \"gasPriceNormal\":int})"
   ]
  },
  {
   "cell_type": "code",
   "execution_count": 4,
   "id": "15046dc3",
   "metadata": {},
   "outputs": [],
   "source": [
    "# calculate count of users\n",
    "user_addresses_count_internal = df_internal['to'].value_counts()\n",
    "user_addresses_count_normal = df_normal['from'].value_counts()"
   ]
  },
  {
   "cell_type": "code",
   "execution_count": 5,
   "id": "c19ac307",
   "metadata": {},
   "outputs": [],
   "source": [
    "df_internal_full = pd.DataFrame.merge(df_internal, df_internal_gas, on='hash')\n",
    "df_internal_full = df_internal_full.replace(pd.NA, \"0\")\n",
    "\n",
    "# convert strings to numbers\n",
    "df_internal_full[\"value_ETH\"] = df_internal_full['value'].str[:-15]\n",
    "df_internal[\"value_ETH\"] = df_internal['value'].str[:-15]\n",
    "df_normal[\"value_ETH\"] = df_normal['value'].str[:-15]\n",
    "# convert strings to numbers\n",
    "df_internal_full[\"value_ETH\"] = pd.to_numeric(df_internal_full.value_ETH)*0.001\n",
    "df_internal[\"value_ETH\"] = pd.to_numeric(df_internal.value_ETH)*0.001\n",
    "df_normal[\"value_ETH\"] = pd.to_numeric(df_normal.value_ETH)*0.001\n",
    "df_internal_full[\"gasUsedNormal\"] = pd.to_numeric(df_internal_full.gasUsedNormal)\n",
    "df_normal[\"gasUsed\"] = pd.to_numeric(df_normal.gasUsed)\n",
    "df_internal_full[\"gasPriceNormal\"] = pd.to_numeric(df_internal_full.gasPriceNormal)\n",
    "df_normal[\"gasPrice\"] = pd.to_numeric(df_normal.gasPrice)\n",
    "# convert timestamp\n",
    "df_internal_full['timeStamp_UTC'] = df_internal_full['timeStamp'].apply(lambda d: datetime.fromtimestamp(int(d)).strftime('%Y-%m-%d %H:%M:%S:%ms'))\n",
    "df_internal['timeStamp_UTC'] = df_internal['timeStamp'].apply(lambda d: datetime.fromtimestamp(int(d)).strftime('%Y-%m-%d %H:%M:%S:%ms'))\n",
    "df_normal['timeStamp_UTC'] = df_normal['timeStamp'].apply(lambda d: datetime.fromtimestamp(int(d)).strftime('%Y-%m-%d %H:%M:%S:%ms'))"
   ]
  },
  {
   "cell_type": "code",
   "execution_count": 6,
   "id": "844cfd92",
   "metadata": {},
   "outputs": [],
   "source": [
    "# convert Wei to Ether\n",
    "df_normal[\"transaction_fee_ETH\"] = df_normal.gasUsed*df_normal.gasPrice/10**18\n",
    "df_internal_full[\"transaction_fee_ETH\"] = df_internal_full.gasUsedNormal*df_internal_full.gasPriceNormal/10**18"
   ]
  },
  {
   "cell_type": "code",
   "execution_count": 7,
   "id": "54ef5a0f",
   "metadata": {},
   "outputs": [],
   "source": [
    "# create a balance sheet and sum-up income, spendings, and transaction fees for user accounts\n",
    "df_balance = pd.DataFrame(columns=[\"address\", \"sum_income\", \"sum_spendings\"])\n",
    "income = pd.DataFrame(df_internal.groupby([\"to\"])[\"value_ETH\"].sum())\n",
    "income.rename(columns={\"value_ETH\":\"income_ETH\"}, inplace=True)\n",
    "spendings = pd.DataFrame(df_normal.groupby([\"from\"])[\"value_ETH\"].sum())\n",
    "spendings.rename(columns={\"value_ETH\":\"spendings_ETH\"}, inplace=True)\n",
    "fees = pd.DataFrame(df_normal.groupby([\"from\"])[\"transaction_fee_ETH\"].sum())\n",
    "fees.rename(columns={\"transaction_fee_ETH\":\"fees_ETH\"}, inplace=True)\n",
    "\n",
    "# concatenate the values in one table\n",
    "balance = pd.concat([spendings, income, fees], axis=1)\n",
    "balance.fillna(0, inplace=True)\n",
    "\n",
    "# calculate total spendings\n",
    "balance[\"total_ETH\"]=balance.income_ETH-balance.spendings_ETH-balance.fees_ETH\n",
    "\n",
    "# reorder columns\n",
    "balance = balance.reindex(columns=[\"income_ETH\", \"spendings_ETH\", \"fees_ETH\", \"total_ETH\"])\n",
    "balance.reset_index(inplace=True)\n",
    "balance.rename(columns={\"index\":\"address\"}, inplace=True)"
   ]
  },
  {
   "cell_type": "code",
   "execution_count": 8,
   "id": "a2408ac7",
   "metadata": {},
   "outputs": [
    {
     "name": "stdout",
     "output_type": "stream",
     "text": [
      "Overall balance (spendings-income): 40161.67899999977\n",
      "Total fees: 39650.25488903612\n",
      "Total income: 728720.6500000001\n"
     ]
    }
   ],
   "source": [
    "# calculate stats\n",
    "\n",
    "overall = balance.spendings_ETH.sum()-balance.income_ETH.sum()\n",
    "fees_total = balance.fees_ETH.sum()\n",
    "income_total = balance.income_ETH.sum()\n",
    "\n",
    "print(f\"Overall balance (spendings-income): {overall}\")\n",
    "print(f\"Total fees: {fees_total}\")\n",
    "print(f\"Total income: {income_total}\")"
   ]
  },
  {
   "cell_type": "code",
   "execution_count": 16,
   "id": "a5e180cf",
   "metadata": {},
   "outputs": [],
   "source": [
    "# save for later use\n",
    "\n",
    "curr_dir = os.getcwd()\n",
    "dir_path = os.path.dirname(curr_dir)\n",
    "file = \"balance\"\n",
    "path = os.path.join(dir_path, \"resources\", file + \".pkl\")\n",
    "pickle.dump(balance, open(path, 'wb'))"
   ]
  }
 ],
 "metadata": {
  "kernelspec": {
   "display_name": "Python 3 (ipykernel)",
   "language": "python",
   "name": "python3"
  },
  "language_info": {
   "codemirror_mode": {
    "name": "ipython",
    "version": 3
   },
   "file_extension": ".py",
   "mimetype": "text/x-python",
   "name": "python",
   "nbconvert_exporter": "python",
   "pygments_lexer": "ipython3",
   "version": "3.8.10"
  }
 },
 "nbformat": 4,
 "nbformat_minor": 5
}
